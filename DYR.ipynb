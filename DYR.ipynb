{
 "cells": [
  {
   "cell_type": "markdown",
   "metadata": {},
   "source": [
    "# DYR Functions"
   ]
  },
  {
   "cell_type": "code",
   "execution_count": 1,
   "metadata": {},
   "outputs": [],
   "source": [
    "import numpy as np\n",
    "import pandas as pd\n",
    "\n",
    "from typing import Dict\n",
    "\n",
    "import andes"
   ]
  },
  {
   "cell_type": "code",
   "execution_count": 2,
   "metadata": {},
   "outputs": [],
   "source": [
    "%matplotlib inline"
   ]
  },
  {
   "cell_type": "code",
   "execution_count": 3,
   "metadata": {},
   "outputs": [],
   "source": [
    "andes.config_logger(stream_level=20)"
   ]
  },
  {
   "cell_type": "code",
   "execution_count": null,
   "metadata": {},
   "outputs": [
    {
     "name": "stdout",
     "output_type": "stream",
     "text": [
      "Skipped Toggle\n",
      "Data successfully written to ./Texas2k/ieee14_out.dyr\n"
     ]
    }
   ],
   "source": [
    "def write_dict_dyr(dyr_dict: Dict[str, pd.DataFrame], outfile: str):\n",
    "    \"\"\"\n",
    "    Write a dictionary of dynamic models to a DYR file.\n",
    "\n",
    "    This function takes a dictionary where the keys are model names (e.g., 'REGCA1', 'REECA1') \n",
    "    and the values are pandas DataFrames containing the model parameters. It writes the data \n",
    "    to a DYR file in the correct format, ensuring the following:\n",
    "    - The first column (IBUS) is an integer representing the bus index.\n",
    "    - The second column is the model name, enclosed in single quotes.\n",
    "    - The third column (ID) is an integer representing the device index.\n",
    "    - Remaining columns are the model parameters, written as space-separated values.\n",
    "    - Each line ends with a trailing slash ('/').\n",
    "\n",
    "    Models 'Toggle' are skipped during the writing process.\n",
    "\n",
    "    Parameters:\n",
    "    -----------\n",
    "    dyr_dict : Dict[str, pd.DataFrame]\n",
    "        A dictionary where each key is a model name and each value is a pandas DataFrame \n",
    "        containing the parameters for that model. The DataFrame must have the following structure:\n",
    "        - Column 0: IBUS (integer)\n",
    "        - Column 1: ID (integer)\n",
    "        - Columns 2+: Model parameters (various types).\n",
    "    \n",
    "    outfile : str\n",
    "        The path to the output DYR file where the formatted data will be written.\n",
    "\n",
    "    Returns:\n",
    "    --------\n",
    "    None\n",
    "        The function writes the data to the specified file and prints a success message.\n",
    "\n",
    "    Notes:\n",
    "    ------\n",
    "    - The function skips models with the name 'Toggle' and prints a message for each skipped model.\n",
    "    - A blank line is not added between models in the output file.\n",
    "    - Ensure the input DataFrames are properly formatted to avoid runtime errors.\n",
    "\n",
    "    Example:\n",
    "    --------\n",
    "    >>> dyr_dict = {\n",
    "    ...     'REGCA1': pd.DataFrame([\n",
    "    ...         [1004, 1, 1.0, 0.01, 10, 0.9, 0.5],\n",
    "    ...         [1006, 1, 1.0, 0.02, 10, 0.9, 0.5]\n",
    "    ...     ]),\n",
    "    ...     'REECA1': pd.DataFrame([\n",
    "    ...         [1004, 1, 0, 0, 1, 1, 1],\n",
    "    ...         [1006, 1, 0, 0, 1, 1, 1]\n",
    "    ...     ])\n",
    "    ... }\n",
    "    >>> write_dict_dyr(dyr_dict, './output.dyr')\n",
    "    Data successfully written to ./output.dyr\n",
    "    \"\"\"\n",
    "    with open(outfile, 'w') as f:\n",
    "        for model_name, df in dyr_dict.items():\n",
    "            if model_name in ['Toggle']:\n",
    "                print(f\"Skipped {model_name}\")\n",
    "                continue\n",
    "            for _, row in df.iterrows():\n",
    "                ibus = int(row.iloc[0])  # format IBUS as integer\n",
    "                model = f\"'{model_name}'\"  # model name\n",
    "                device_id = int(row.iloc[1])  # format ID as integer\n",
    "                # format the rest parameters\n",
    "                params = ' '.join(map(str, row.iloc[2:].values))\n",
    "                # Combine all parts into a formatted line\n",
    "                formatted_line = f\"{ibus} {model} {device_id} {params} /\"\n",
    "                # Write the formatted line to the file\n",
    "                f.write(formatted_line + '\\n')\n",
    "\n",
    "    print(f\"Data successfully written to {outfile}\")"
   ]
  },
  {
   "cell_type": "code",
   "execution_count": null,
   "metadata": {},
   "outputs": [],
   "source": [
    "# Test on IEEE 14 case\n",
    "dyr = andes.io.psse._read_dyr_dict(\"./Texas2k/ieee14.dyr\")\n",
    "write_dict_dyr(dyr, './Texas2k/ieee14_out.dyr')"
   ]
  },
  {
   "cell_type": "code",
   "execution_count": null,
   "metadata": {},
   "outputs": [],
   "source": []
  },
  {
   "cell_type": "code",
   "execution_count": 7,
   "metadata": {},
   "outputs": [
    {
     "name": "stderr",
     "output_type": "stream",
     "text": [
      "Working directory: \"/Users/jinningwang/work/turbinegov\"\n",
      "> Loaded config from file \"/Users/jinningwang/.andes/andes.rc\"\n",
      "> Loaded generated Python code in \"/Users/jinningwang/.andes/pycode\".\n",
      "Parsing input file \"./Texas2k/ieee14.raw\"...\n",
      "  IEEE 14 BUS TEST CASE\n",
      "  03/06/14 CONTO           100.0  1962 W\n",
      "Input file parsed in 0.0117 seconds.\n",
      "Parsing additional file \"./Texas2k/ieee14.dyr\"...\n",
      "Addfile parsed in 0.0688 seconds.\n",
      "IEEEST <IEEEST_1> added BusFreq <BusFreq_1> linked to bus <3.0>\n",
      "ST2CUT <ST2CUT_2> added BusFreq <BusFreq_2> linked to bus <1.0>\n",
      "ST2CUT <ST2CUT_3> added BusFreq <BusFreq_3> linked to bus <2.0>\n",
      "System internal structure set up in 0.0610 seconds.\n"
     ]
    }
   ],
   "source": [
    "sa1 = andes.load(\n",
    "    \"./Texas2k/ieee14.raw\",\n",
    "    addfile=\"./Texas2k/ieee14.dyr\"\n",
    ")"
   ]
  },
  {
   "cell_type": "code",
   "execution_count": 8,
   "metadata": {},
   "outputs": [
    {
     "name": "stderr",
     "output_type": "stream",
     "text": [
      "Working directory: \"/Users/jinningwang/work/turbinegov\"\n",
      "> Loaded config from file \"/Users/jinningwang/.andes/andes.rc\"\n",
      "> Reloaded generated Python code of module \"pycode\".\n",
      "Parsing input file \"./Texas2k/ieee14.raw\"...\n",
      "  IEEE 14 BUS TEST CASE\n",
      "  03/06/14 CONTO           100.0  1962 W\n",
      "Input file parsed in 0.0051 seconds.\n",
      "Parsing additional file \"./Texas2k/ieee14_out.dyr\"...\n",
      "Addfile parsed in 0.0853 seconds.\n",
      "IEEEST <IEEEST_1> added BusFreq <BusFreq_1> linked to bus <3.0>\n",
      "ST2CUT <ST2CUT_2> added BusFreq <BusFreq_2> linked to bus <1.0>\n",
      "ST2CUT <ST2CUT_3> added BusFreq <BusFreq_3> linked to bus <2.0>\n",
      "System internal structure set up in 0.0147 seconds.\n"
     ]
    }
   ],
   "source": [
    "sa2 = andes.load(\n",
    "    \"./Texas2k/ieee14.raw\",\n",
    "    addfile=\"./Texas2k/ieee14_out.dyr\"\n",
    ")"
   ]
  }
 ],
 "metadata": {
  "kernelspec": {
   "display_name": "amsre",
   "language": "python",
   "name": "python3"
  },
  "language_info": {
   "codemirror_mode": {
    "name": "ipython",
    "version": 3
   },
   "file_extension": ".py",
   "mimetype": "text/x-python",
   "name": "python",
   "nbconvert_exporter": "python",
   "pygments_lexer": "ipython3",
   "version": "3.12.0"
  }
 },
 "nbformat": 4,
 "nbformat_minor": 2
}
