{
 "cells": [
  {
   "cell_type": "markdown",
   "id": "d1366c64",
   "metadata": {},
   "source": [
    "# Test TDS Initialization"
   ]
  },
  {
   "cell_type": "code",
   "execution_count": 1,
   "id": "20be6764",
   "metadata": {},
   "outputs": [],
   "source": [
    "import andes\n",
    "import ams"
   ]
  },
  {
   "cell_type": "code",
   "execution_count": 2,
   "id": "6eb2d2b2",
   "metadata": {},
   "outputs": [
    {
     "name": "stdout",
     "output_type": "stream",
     "text": [
      "Generating code for 1 models on 12 processes.\n"
     ]
    },
    {
     "name": "stderr",
     "output_type": "stream",
     "text": [
      "Following PFlow models in addfile will be overwritten: <Bus>, <PQ>, <PV>, <Slack>, <Shunt>, <Line>, <Area>\n",
      "AMS system 0x307aef980 is linked to the ANDES system 0x33b70d880.\n"
     ]
    },
    {
     "name": "stdout",
     "output_type": "stream",
     "text": [
      "Generating code for 1 models on 12 processes.\n"
     ]
    },
    {
     "name": "stderr",
     "output_type": "stream",
     "text": [
      "Following PFlow models in addfile will be overwritten: <Bus>, <PQ>, <PV>, <Slack>, <Shunt>, <Line>, <Area>\n",
      "AMS system 0x33ae3bd70 is linked to the ANDES system 0x307992c60.\n"
     ]
    },
    {
     "name": "stdout",
     "output_type": "stream",
     "text": [
      "Generating code for 1 models on 12 processes.\n"
     ]
    },
    {
     "name": "stderr",
     "output_type": "stream",
     "text": [
      "Following PFlow models in addfile will be overwritten: <Bus>, <PQ>, <PV>, <Slack>, <Shunt>, <Line>, <Area>\n",
      "AMS system 0x339d35580 is linked to the ANDES system 0x33d356d50.\n"
     ]
    }
   ],
   "source": [
    "opf_cases = ['./ACTIVSg200/IL200_opf_20wt.xlsx',\n",
    "             './ACTIVSg200/IL200_opf_50wt.xlsx',\n",
    "             './ACTIVSg200/IL200_opf_80wt.xlsx',]\n",
    "sp1 = ams.load(opf_cases[0],\n",
    "               setup=True, no_output=True,\n",
    "               default_config=True)\n",
    "sp3 = ams.load(opf_cases[1],\n",
    "               setup=True, no_output=True,\n",
    "               default_config=True)\n",
    "sp5 = ams.load(opf_cases[2],\n",
    "               setup=True, no_output=True,\n",
    "               default_config=True)\n",
    "\n",
    "dy_cases = ['./ACTIVSg200/1.IL200_dyn_20wt.xlsx',\n",
    "            './ACTIVSg200/3.IL200_dyn_50wt.xlsx',\n",
    "            './ACTIVSg200/5.IL200_dyn_80wt.xlsx',]\n",
    "\n",
    "s1 = sp1.to_andes(addfile=dy_cases[0],\n",
    "                  setup=True, no_output=True,\n",
    "                  default_config=True)\n",
    "s3 = sp3.to_andes(addfile=dy_cases[1],\n",
    "                  setup=True, no_output=True,\n",
    "                  default_config=True)\n",
    "s5 = sp5.to_andes(addfile=dy_cases[2],\n",
    "                  setup=True, no_output=True,\n",
    "                  default_config=True)"
   ]
  },
  {
   "cell_type": "code",
   "execution_count": 3,
   "id": "78fe38c6",
   "metadata": {},
   "outputs": [
    {
     "name": "stderr",
     "output_type": "stream",
     "text": [
      "Building system matrices\n",
      "Parsing OModel for <DCOPF>\n",
      "Evaluating OModel for <DCOPF>\n",
      "Finalizing OModel for <DCOPF>\n",
      "<DCOPF> solved as optimal in 0.0183 seconds, converged in 12 iterations with CLARABEL.\n",
      "Parsing OModel for <ACOPF>\n",
      "Evaluating OModel for <ACOPF>\n",
      "Finalizing OModel for <ACOPF>\n",
      "<ACOPF> solved in 0.4401 seconds, converged in 18 iterations with PYPOWER-PIPS.\n",
      "<DCOPF> converted to AC.\n",
      "Building system matrices\n",
      "Parsing OModel for <DCOPF>\n",
      "Evaluating OModel for <DCOPF>\n",
      "Finalizing OModel for <DCOPF>\n",
      "<DCOPF> solved as optimal in 0.0166 seconds, converged in 12 iterations with CLARABEL.\n",
      "Parsing OModel for <ACOPF>\n",
      "Evaluating OModel for <ACOPF>\n",
      "Finalizing OModel for <ACOPF>\n",
      "<ACOPF> solved in 0.3770 seconds, converged in 18 iterations with PYPOWER-PIPS.\n",
      "<DCOPF> converted to AC.\n",
      "Building system matrices\n",
      "Parsing OModel for <DCOPF>\n",
      "Evaluating OModel for <DCOPF>\n",
      "Finalizing OModel for <DCOPF>\n",
      "<DCOPF> solved as optimal in 0.0164 seconds, converged in 12 iterations with CLARABEL.\n",
      "Parsing OModel for <ACOPF>\n",
      "Evaluating OModel for <ACOPF>\n",
      "Finalizing OModel for <ACOPF>\n",
      "<ACOPF> solved in 0.3744 seconds, converged in 18 iterations with PYPOWER-PIPS.\n",
      "<DCOPF> converted to AC.\n"
     ]
    }
   ],
   "source": [
    "for ss in [sp1, sp3, sp5]:\n",
    "    ss.DCOPF.run(solver='CLARABEL')\n",
    "    ss.DCOPF.dc2ac()"
   ]
  },
  {
   "cell_type": "code",
   "execution_count": 4,
   "id": "9db0b4ce",
   "metadata": {},
   "outputs": [
    {
     "name": "stderr",
     "output_type": "stream",
     "text": [
      "Send <vBus> to Bus.v0\n",
      "Send <ug> to StaticGen.u\n",
      "Send <pg> to StaticGen.p0\n",
      "Send <vBus> to Bus.v0\n",
      "Send <ug> to StaticGen.u\n",
      "Send <pg> to StaticGen.p0\n",
      "Send <vBus> to Bus.v0\n",
      "Send <ug> to StaticGen.u\n",
      "Send <pg> to StaticGen.p0\n"
     ]
    },
    {
     "data": {
      "text/plain": [
       "True"
      ]
     },
     "execution_count": 4,
     "metadata": {},
     "output_type": "execute_result"
    }
   ],
   "source": [
    "sp1.dyn.send(adsys=s1, routine='DCOPF')\n",
    "sp3.dyn.send(adsys=s3, routine='DCOPF')\n",
    "sp5.dyn.send(adsys=s5, routine='DCOPF')"
   ]
  },
  {
   "cell_type": "code",
   "execution_count": 5,
   "id": "eec882be",
   "metadata": {},
   "outputs": [
    {
     "name": "stderr",
     "output_type": "stream",
     "text": [
      "GENROU (vf range) out of typical lower limit.\n",
      "\n",
      "   idx     | values | limit\n",
      "-----------+--------+------\n",
      " GENROU_6  | 0      | 1    \n",
      " GENROU_22 | 0      | 1    \n",
      " GENROU_23 | 0      | 1    \n",
      " GENROU_24 | 0      | 1    \n",
      " GENROU_25 | 0      | 1    \n",
      " GENROU_31 | 0      | 1    \n",
      "\n",
      "\n",
      "GENROU (vf range) out of typical lower limit.\n",
      "\n",
      "   idx     | values | limit\n",
      "-----------+--------+------\n",
      " GENROU_6  | 0      | 1    \n",
      " GENROU_22 | 0      | 1    \n",
      " GENROU_23 | 0      | 1    \n",
      " GENROU_24 | 0      | 1    \n",
      " GENROU_25 | 0      | 1    \n",
      " GENROU_26 | 0      | 1    \n",
      " GENROU_27 | 0      | 1    \n",
      " GENROU_28 | 0      | 1    \n",
      " GENROU_29 | 0      | 1    \n",
      " GENROU_30 | 0      | 1    \n",
      " GENROU_31 | 0      | 1    \n",
      "\n",
      "\n",
      "GENROU (vf range) out of typical lower limit.\n",
      "\n",
      "   idx     | values | limit\n",
      "-----------+--------+------\n",
      " GENROU_6  | 0      | 1    \n",
      " GENROU_8  | 0      | 1    \n",
      " GENROU_9  | 0      | 1    \n",
      " GENROU_10 | 0      | 1    \n",
      " GENROU_18 | 0      | 1    \n",
      " GENROU_22 | 0      | 1    \n",
      " GENROU_23 | 0      | 1    \n",
      " GENROU_24 | 0      | 1    \n",
      " GENROU_25 | 0      | 1    \n",
      " GENROU_26 | 0      | 1    \n",
      " GENROU_27 | 0      | 1    \n",
      " GENROU_28 | 0      | 1    \n",
      " GENROU_29 | 0      | 1    \n",
      " GENROU_30 | 0      | 1    \n",
      " GENROU_31 | 0      | 1    \n",
      " GENROU_33 | 0      | 1    \n",
      " GENROU_34 | 0      | 1    \n",
      " GENROU_35 | 0      | 1    \n",
      " GENROU_36 | 0      | 1    \n",
      " GENROU_37 | 0      | 1    \n",
      " GENROU_39 | 0      | 1    \n",
      " GENROU_45 | 0      | 1    \n",
      " GENROU_46 | 0      | 1    \n",
      " GENROU_48 | 0      | 1    \n",
      " GENROU_49 | 0      | 1    \n",
      "\n",
      "\n"
     ]
    }
   ],
   "source": [
    "for ss in [s1, s3, s5]:\n",
    "    # Constant load\n",
    "    ss.PQ.config.p2p = 1\n",
    "    ss.PQ.config.q2q = 1\n",
    "    ss.PQ.config.p2z = 0\n",
    "    ss.PQ.config.q2z = 0\n",
    "\n",
    "    ss.PFlow.run()\n",
    "\n",
    "    _ = ss.TDS.init()"
   ]
  }
 ],
 "metadata": {
  "kernelspec": {
   "display_name": "amsre",
   "language": "python",
   "name": "python3"
  },
  "language_info": {
   "codemirror_mode": {
    "name": "ipython",
    "version": 3
   },
   "file_extension": ".py",
   "mimetype": "text/x-python",
   "name": "python",
   "nbconvert_exporter": "python",
   "pygments_lexer": "ipython3",
   "version": "3.12.0"
  }
 },
 "nbformat": 4,
 "nbformat_minor": 5
}
