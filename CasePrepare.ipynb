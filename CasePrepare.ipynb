{
 "cells": [
  {
   "cell_type": "markdown",
   "metadata": {},
   "source": [
    "# Case Preparation"
   ]
  },
  {
   "cell_type": "code",
   "execution_count": null,
   "metadata": {},
   "outputs": [],
   "source": [
    "import andes\n",
    "import ams"
   ]
  },
  {
   "cell_type": "code",
   "execution_count": 2,
   "metadata": {},
   "outputs": [],
   "source": [
    "%matplotlib inline"
   ]
  },
  {
   "cell_type": "code",
   "execution_count": 3,
   "metadata": {},
   "outputs": [],
   "source": [
    "andes.config_logger(stream_level=40)\n",
    "ams.config_logger(stream_level=20)"
   ]
  },
  {
   "cell_type": "code",
   "execution_count": 4,
   "metadata": {},
   "outputs": [
    {
     "name": "stderr",
     "output_type": "stream",
     "text": [
      "Parsing input file \"./ACTIVSg200/IL200_opf.xlsx\"...\n",
      "Input file parsed in 0.1583 seconds.\n",
      "Zero Line parameters detected, adjusted to default values: rate_b, rate_c, amax, amin.\n",
      "System set up in 0.0033 seconds.\n",
      "Parsing input file \"./ACTIVSg200/IL200_opf50.xlsx\"...\n",
      "Input file parsed in 0.0841 seconds.\n",
      "Zero Line parameters detected, adjusted to default values: rate_b, rate_c, amax, amin.\n",
      "System set up in 0.0033 seconds.\n"
     ]
    }
   ],
   "source": [
    "sp1 = ams.load('./ACTIVSg200/IL200_opf.xlsx',\n",
    "              setup=True, no_output=True,\n",
    "              default_config=True)\n",
    "sp2 = ams.load('./ACTIVSg200/IL200_opf50.xlsx',\n",
    "              setup=True, no_output=True,\n",
    "              default_config=True)"
   ]
  },
  {
   "cell_type": "code",
   "execution_count": 5,
   "metadata": {},
   "outputs": [
    {
     "name": "stdout",
     "output_type": "stream",
     "text": [
      "Wind penetration: 19.75%\n",
      "Wind penetration: 55.96%\n"
     ]
    }
   ],
   "source": [
    "for ss in [sp1, sp2]:\n",
    "    stg_idx = ss.StaticGen.get_all_idxes()\n",
    "    stg_wt = ss.StaticGen.find_idx(keys='genfuel', values=['wind'], allow_all=True)[0]\n",
    "    sn_wt = ss.StaticGen.get(src='Sn', attr='v', idx=stg_wt)\n",
    "    sn_total = ss.StaticGen.get(src='Sn', attr='v', idx=stg_idx)\n",
    "\n",
    "    print('Wind penetration: {0:.2f}%'.format(\n",
    "        sn_wt.sum() / sn_total.sum() * 100))"
   ]
  },
  {
   "cell_type": "code",
   "execution_count": 6,
   "metadata": {},
   "outputs": [
    {
     "name": "stderr",
     "output_type": "stream",
     "text": [
      "Building system matrices\n",
      "Parsing OModel for <DCOPF>\n",
      "Evaluating OModel for <DCOPF>\n",
      "Finalizing OModel for <DCOPF>\n",
      "<DCOPF> initialized in 0.0120 seconds.\n",
      "<DCOPF> solved as optimal in 0.0460 seconds, converged in 12 iterations with CLARABEL.\n",
      "Parsing OModel for <ACOPF>\n",
      "Evaluating OModel for <ACOPF>\n",
      "Finalizing OModel for <ACOPF>\n",
      "<ACOPF> initialized in 0.0118 seconds.\n",
      "<ACOPF> solved in 0.4855 seconds, converged in 20 iterations with PYPOWER-PIPS.\n",
      "<DCOPF> converted to AC.\n",
      "Building system matrices\n",
      "Parsing OModel for <DCOPF>\n",
      "Evaluating OModel for <DCOPF>\n",
      "Finalizing OModel for <DCOPF>\n",
      "<DCOPF> initialized in 0.0128 seconds.\n",
      "<DCOPF> solved as optimal in 0.0187 seconds, converged in 12 iterations with CLARABEL.\n",
      "Parsing OModel for <ACOPF>\n",
      "Evaluating OModel for <ACOPF>\n",
      "Finalizing OModel for <ACOPF>\n",
      "<ACOPF> initialized in 0.0071 seconds.\n",
      "<ACOPF> solved in 0.5661 seconds, converged in 20 iterations with PYPOWER-PIPS.\n",
      "<DCOPF> converted to AC.\n"
     ]
    }
   ],
   "source": [
    "for ss in [sp1, sp2]:\n",
    "    ss.DCOPF.init()\n",
    "    ss.DCOPF.run(solver='CLARABEL')\n",
    "    ss.DCOPF.dc2ac()"
   ]
  },
  {
   "cell_type": "code",
   "execution_count": 7,
   "metadata": {},
   "outputs": [
    {
     "name": "stderr",
     "output_type": "stream",
     "text": [
      "Parsing additional file \"./ACTIVSg200/IL200_dyn_base.xlsx\"...\n",
      "Following PFlow models in addfile will be overwritten: <Bus>, <PQ>, <PV>, <Slack>, <Shunt>, <Line>, <Area>\n",
      "<PQ> has different number of rows in addfile.\n",
      "Addfile parsed in 0.1441 seconds.\n",
      "System converted to ANDES in 0.0645 seconds.\n",
      "AMS system 0x10e4e8af0 is linked to the ANDES system 0x129e4bd90.\n",
      "Parsing additional file \"./ACTIVSg200/IL200_dyn50_ts.xlsx\"...\n",
      "Following PFlow models in addfile will be overwritten: <Bus>, <PQ>, <PV>, <Slack>, <Shunt>, <Line>, <Area>\n",
      "<PQ> has different number of rows in addfile.\n",
      "Addfile parsed in 0.1455 seconds.\n",
      "System converted to ANDES in 0.1086 seconds.\n",
      "AMS system 0x11e452bc0 is linked to the ANDES system 0x12af47ac0.\n"
     ]
    }
   ],
   "source": [
    "sa1 = sp1.to_andes(addfile='./ACTIVSg200/IL200_dyn_base.xlsx',\n",
    "                   setup=False, no_output=True,\n",
    "                   default_config=True)\n",
    "sa2 = sp2.to_andes(addfile='./ACTIVSg200/IL200_dyn50_ts.xlsx',\n",
    "                   setup=False, no_output=True,\n",
    "                   default_config=True)\n",
    "\n",
    "for ss in [sa1, sa2]:\n",
    "    # add a Toggle to trip a generator\n",
    "    ss.add(model='Toggle', param_dict=dict(t=1, model='GENROU', dev='GENROU_10'))\n",
    "    ss.setup()"
   ]
  },
  {
   "cell_type": "code",
   "execution_count": 8,
   "metadata": {},
   "outputs": [
    {
     "name": "stderr",
     "output_type": "stream",
     "text": [
      "Send <DCOPF> results to ANDES <0x129e4bd90>...\n",
      "*Send <vBus> to StaticGen.v0\n",
      "Send <vBus> to Bus.v0\n",
      "Send <ug> to StaticGen.u\n",
      "Send <pg> to StaticGen.p0\n",
      "Send <DCOPF> results to ANDES <0x12af47ac0>...\n",
      "*Send <vBus> to StaticGen.v0\n",
      "Send <vBus> to Bus.v0\n",
      "Send <ug> to StaticGen.u\n",
      "Send <pg> to StaticGen.p0\n"
     ]
    },
    {
     "data": {
      "text/plain": [
       "True"
      ]
     },
     "execution_count": 8,
     "metadata": {},
     "output_type": "execute_result"
    }
   ],
   "source": [
    "sp1.dyn.send(adsys=sa1, routine='DCOPF')\n",
    "sp2.dyn.send(adsys=sa2, routine='DCOPF')"
   ]
  },
  {
   "cell_type": "code",
   "execution_count": 9,
   "metadata": {},
   "outputs": [
    {
     "name": "stdout",
     "output_type": "stream",
     "text": [
      "<Toggle Toggle_1>: GENROU.GENROU_10 status changed to 0 at t=1.0 sec.\n",
      "<Toggle Toggle_1>: GENROU.GENROU_10 status changed to 0 at t=1.0 sec.\n"
     ]
    }
   ],
   "source": [
    "for ss in [sa1, sa2]:\n",
    "    ss.PFlow.run()\n",
    "\n",
    "    ss.TDS.config.tf = 100\n",
    "    ss.TDS.config.criteria = 0\n",
    "    ss.TDS.config.no_tqdm = True\n",
    "    ss.TDS.run()"
   ]
  },
  {
   "cell_type": "code",
   "execution_count": 12,
   "metadata": {},
   "outputs": [
    {
     "data": {
      "image/png": "[encoded data removed]",
      "text/plain": [
       "<Figure size 640x480 with 1 Axes>"
      ]
     },
     "metadata": {},
     "output_type": "display_data"
    }
   ],
   "source": [
    "slack_syg = 'GENROU_47'\n",
    "fig, ax = sa1.TDS.plt.plot(sa1.GENROU.omega,\n",
    "                           a=(sa1.GENROU.idx2uid(slack_syg)),\n",
    "                           latex=False, show=False,\n",
    "                           ytimes=sa1.config.freq,\n",
    "                           grid=True,\n",
    "                           ylabel='Gen. Freq. [Hz]',\n",
    "                           yheader=['20% Wind Penetration'],\n",
    "                           )\n",
    "fig, ax = sa2.TDS.plt.plot(sa2.GENROU.omega,\n",
    "                           a=(sa2.GENROU.idx2uid(slack_syg)),\n",
    "                           fig=fig, ax=ax,\n",
    "                           ymin=59.78, ymax=60.01,\n",
    "                           latex=False, show=False,\n",
    "                           ytimes=sa2.config.freq,\n",
    "                           yheader=['50% Wind Penetration'])"
   ]
  }
 ],
 "metadata": {
  "kernelspec": {
   "display_name": "ams",
   "language": "python",
   "name": "python3"
  },
  "language_info": {
   "codemirror_mode": {
    "name": "ipython",
    "version": 3
   },
   "file_extension": ".py",
   "mimetype": "text/x-python",
   "name": "python",
   "nbconvert_exporter": "python",
   "pygments_lexer": "ipython3",
   "version": "3.10.0"
  }
 },
 "nbformat": 4,
 "nbformat_minor": 2
}
