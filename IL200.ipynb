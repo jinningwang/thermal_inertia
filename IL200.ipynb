{
 "cells": [
  {
   "cell_type": "markdown",
   "metadata": {},
   "source": [
    "# Case Preparation\n",
    "\n",
    "Convert the source case to ANDES and AMS format."
   ]
  },
  {
   "cell_type": "code",
   "execution_count": 1,
   "metadata": {},
   "outputs": [],
   "source": [
    "import andes\n",
    "import ams"
   ]
  },
  {
   "cell_type": "code",
   "execution_count": 2,
   "metadata": {},
   "outputs": [],
   "source": [
    "%matplotlib inline"
   ]
  },
  {
   "cell_type": "code",
   "execution_count": 3,
   "metadata": {},
   "outputs": [
    {
     "name": "stdout",
     "output_type": "stream",
     "text": [
      "Python   3.12.0\n",
      "ams      1.0.8\n",
      "andes    1.9.3.post6+g518882a0\n",
      "numpy    2.0.2\n",
      "cvxpy    1.6.0\n",
      "solvers  CLARABEL, ECOS, ECOS_BB,\n",
      "         GUROBI, HIGHS, MOSEK, OSQP,\n",
      "         PIQP, SCIP, SCIPY, SCS\n"
     ]
    }
   ],
   "source": [
    "!ams misc --version"
   ]
  },
  {
   "cell_type": "code",
   "execution_count": 4,
   "metadata": {},
   "outputs": [],
   "source": [
    "andes.config_logger(stream_level=20)\n",
    "ams.config_logger(stream_level=20)"
   ]
  },
  {
   "cell_type": "markdown",
   "metadata": {},
   "source": [
    "## OPF"
   ]
  },
  {
   "cell_type": "code",
   "execution_count": 5,
   "metadata": {},
   "outputs": [
    {
     "name": "stderr",
     "output_type": "stream",
     "text": [
      "Working directory: \"/Users/jinningwang/work/turbinegov\"\n",
      "Parsing input file \"ACTIVSg200/case_ACTIVSg200.m\"...\n",
      "CASE_ACTIVSG200  Synthetic Illinois 200-bus power system model.\n",
      "Input file parsed in 0.0209 seconds.\n",
      "Zero Line parameters detected, adjusted to default values: rate_b, rate_c, amax, amin.\n",
      "System set up in 0.0019 seconds.\n"
     ]
    }
   ],
   "source": [
    "sp = ams.load(\"ACTIVSg200/case_ACTIVSg200.m\",\n",
    "              setup=True, no_output=True,)"
   ]
  },
  {
   "cell_type": "code",
   "execution_count": 6,
   "metadata": {},
   "outputs": [
    {
     "data": {
      "text/plain": [
       "False"
      ]
     },
     "execution_count": 6,
     "metadata": {},
     "output_type": "execute_result"
    }
   ],
   "source": [
    "ams.io.xlsx.write(sp,\n",
    "                  \"./ACTIVSg200/IL200_opf.xlsx\",\n",
    "                  overwrite=False)"
   ]
  },
  {
   "cell_type": "markdown",
   "metadata": {},
   "source": [
    "In the exported OPF case, ``Bus``, ``Area``, and ``Zone`` are manually adjusted."
   ]
  },
  {
   "cell_type": "markdown",
   "metadata": {},
   "source": [
    "## Dynamics"
   ]
  },
  {
   "cell_type": "code",
   "execution_count": 7,
   "metadata": {},
   "outputs": [
    {
     "name": "stderr",
     "output_type": "stream",
     "text": [
      "Working directory: \"/Users/jinningwang/work/turbinegov\"\n",
      "> Reloaded generated Python code of module \"pycode\".\n",
      "Parsing input file \"ACTIVSg200/ACTIVSg200.RAW\"...\n",
      "  This is a synthetic power system model that does not represent the actual grid. It was developed as part of the US ARPA-E Grid Data research project and contains no CEII.\n",
      "  Reference: A.B. Birchfield, T. Xu, K.M. Gegner, K.S. Shetye, and T.J. Overbye, \"Grid Structural Characteristics as Validation Criteria for Synthetic Networks,\" to appear, IEEE Transactions on Power Systems, 2017.\n",
      "Input file parsed in 0.0446 seconds.\n",
      "Parsing additional file \"ACTIVSg200/ACTIVSg200_dynamics.dyr\"...\n",
      "Addfile parsed in 0.0472 seconds.\n",
      "System internal structure set up in 0.0167 seconds.\n"
     ]
    }
   ],
   "source": [
    "sa = andes.load(\"ACTIVSg200/ACTIVSg200.RAW\",\n",
    "                addfile=\"ACTIVSg200/ACTIVSg200_dynamics.dyr\",\n",
    "                setup=True, no_output=True, default_config=True)"
   ]
  },
  {
   "cell_type": "code",
   "execution_count": null,
   "metadata": {},
   "outputs": [
    {
     "name": "stderr",
     "output_type": "stream",
     "text": [
      "xlsx file written to \"./ACTIVSg200/IL200_dyn.xlsx\"\n"
     ]
    },
    {
     "data": {
      "text/plain": [
       "True"
      ]
     },
     "execution_count": 8,
     "metadata": {},
     "output_type": "execute_result"
    }
   ],
   "source": [
    "andes.io.xlsx.write(sa,\n",
    "                    \"./ACTIVSg200/IL200_dyn.xlsx\",\n",
    "                    overwrite=False)"
   ]
  },
  {
   "cell_type": "markdown",
   "metadata": {},
   "source": [
    "In the exported dynamics case, ``TGOV1`` is replaced with ``TGOV1N``."
   ]
  }
 ],
 "metadata": {
  "kernelspec": {
   "display_name": "amsre",
   "language": "python",
   "name": "python3"
  },
  "language_info": {
   "codemirror_mode": {
    "name": "ipython",
    "version": 3
   },
   "file_extension": ".py",
   "mimetype": "text/x-python",
   "name": "python",
   "nbconvert_exporter": "python",
   "pygments_lexer": "ipython3",
   "version": "3.12.0"
  }
 },
 "nbformat": 4,
 "nbformat_minor": 2
}
