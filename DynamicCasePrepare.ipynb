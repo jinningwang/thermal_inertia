{
 "cells": [
  {
   "cell_type": "markdown",
   "metadata": {},
   "source": [
    "# Dynamic Case Preparation"
   ]
  },
  {
   "cell_type": "code",
   "execution_count": 1,
   "metadata": {},
   "outputs": [],
   "source": [
    "import pandas as pd\n",
    "\n",
    "import matplotlib.pyplot as plt\n",
    "\n",
    "import andes\n",
    "import ams"
   ]
  },
  {
   "cell_type": "code",
   "execution_count": 2,
   "metadata": {},
   "outputs": [],
   "source": [
    "%matplotlib inline"
   ]
  },
  {
   "cell_type": "code",
   "execution_count": 3,
   "metadata": {},
   "outputs": [],
   "source": [
    "andes.config_logger(stream_level=20)\n",
    "ams.config_logger(stream_level=20)"
   ]
  },
  {
   "cell_type": "code",
   "execution_count": 4,
   "metadata": {},
   "outputs": [
    {
     "name": "stderr",
     "output_type": "stream",
     "text": [
      "Working directory: \"/Users/jinningwang/work/turbinegov\"\n",
      "Parsing input file \"./ACTIVSg200/IL200_opf.xlsx\"...\n",
      "Input file parsed in 0.0997 seconds.\n",
      "Zero Line parameters detected, adjusted to default values: rate_b, rate_c, amax, amin.\n",
      "System set up in 0.0021 seconds.\n"
     ]
    }
   ],
   "source": [
    "sp = ams.load('./ACTIVSg200/IL200_opf.xlsx',\n",
    "              setup=True, no_output=True,\n",
    "              default_config=True)"
   ]
  },
  {
   "cell_type": "markdown",
   "metadata": {},
   "source": [
    "## Inspect Case\n",
    "\n",
    "There are different types of generators."
   ]
  },
  {
   "cell_type": "code",
   "execution_count": 5,
   "metadata": {},
   "outputs": [
    {
     "data": {
      "text/html": [
       "<div>\n",
       "<style scoped>\n",
       "    .dataframe tbody tr th:only-of-type {\n",
       "        vertical-align: middle;\n",
       "    }\n",
       "\n",
       "    .dataframe tbody tr th {\n",
       "        vertical-align: top;\n",
       "    }\n",
       "\n",
       "    .dataframe thead th {\n",
       "        text-align: right;\n",
       "    }\n",
       "</style>\n",
       "<table border=\"1\" class=\"dataframe\">\n",
       "  <thead>\n",
       "    <tr style=\"text-align: right;\">\n",
       "      <th></th>\n",
       "      <th>u</th>\n",
       "      <th>name</th>\n",
       "      <th>idx</th>\n",
       "      <th>bus</th>\n",
       "      <th>Sn</th>\n",
       "      <th>gentype</th>\n",
       "      <th>genfuel</th>\n",
       "    </tr>\n",
       "  </thead>\n",
       "  <tbody>\n",
       "    <tr>\n",
       "      <th>0</th>\n",
       "      <td>1.0</td>\n",
       "      <td>47</td>\n",
       "      <td>47</td>\n",
       "      <td>189</td>\n",
       "      <td>682.98</td>\n",
       "      <td>NB</td>\n",
       "      <td>nuclear</td>\n",
       "    </tr>\n",
       "    <tr>\n",
       "      <th>1</th>\n",
       "      <td>1.0</td>\n",
       "      <td>1</td>\n",
       "      <td>1</td>\n",
       "      <td>49</td>\n",
       "      <td>5.44</td>\n",
       "      <td>ST</td>\n",
       "      <td>coal</td>\n",
       "    </tr>\n",
       "    <tr>\n",
       "      <th>2</th>\n",
       "      <td>1.0</td>\n",
       "      <td>2</td>\n",
       "      <td>2</td>\n",
       "      <td>50</td>\n",
       "      <td>5.44</td>\n",
       "      <td>ST</td>\n",
       "      <td>coal</td>\n",
       "    </tr>\n",
       "    <tr>\n",
       "      <th>3</th>\n",
       "      <td>1.0</td>\n",
       "      <td>3</td>\n",
       "      <td>3</td>\n",
       "      <td>51</td>\n",
       "      <td>5.44</td>\n",
       "      <td>ST</td>\n",
       "      <td>coal</td>\n",
       "    </tr>\n",
       "    <tr>\n",
       "      <th>4</th>\n",
       "      <td>1.0</td>\n",
       "      <td>4</td>\n",
       "      <td>4</td>\n",
       "      <td>52</td>\n",
       "      <td>5.44</td>\n",
       "      <td>ST</td>\n",
       "      <td>coal</td>\n",
       "    </tr>\n",
       "    <tr>\n",
       "      <th>5</th>\n",
       "      <td>1.0</td>\n",
       "      <td>5</td>\n",
       "      <td>5</td>\n",
       "      <td>53</td>\n",
       "      <td>10.88</td>\n",
       "      <td>ST</td>\n",
       "      <td>coal</td>\n",
       "    </tr>\n",
       "    <tr>\n",
       "      <th>6</th>\n",
       "      <td>1.0</td>\n",
       "      <td>6</td>\n",
       "      <td>6</td>\n",
       "      <td>65</td>\n",
       "      <td>180.48</td>\n",
       "      <td>W2</td>\n",
       "      <td>wind</td>\n",
       "    </tr>\n",
       "    <tr>\n",
       "      <th>7</th>\n",
       "      <td>1.0</td>\n",
       "      <td>7</td>\n",
       "      <td>7</td>\n",
       "      <td>67</td>\n",
       "      <td>5.64</td>\n",
       "      <td>ST</td>\n",
       "      <td>coal</td>\n",
       "    </tr>\n",
       "    <tr>\n",
       "      <th>8</th>\n",
       "      <td>1.0</td>\n",
       "      <td>8</td>\n",
       "      <td>8</td>\n",
       "      <td>68</td>\n",
       "      <td>33.50</td>\n",
       "      <td>ST</td>\n",
       "      <td>coal</td>\n",
       "    </tr>\n",
       "    <tr>\n",
       "      <th>9</th>\n",
       "      <td>1.0</td>\n",
       "      <td>9</td>\n",
       "      <td>9</td>\n",
       "      <td>69</td>\n",
       "      <td>33.50</td>\n",
       "      <td>ST</td>\n",
       "      <td>coal</td>\n",
       "    </tr>\n",
       "    <tr>\n",
       "      <th>10</th>\n",
       "      <td>1.0</td>\n",
       "      <td>10</td>\n",
       "      <td>10</td>\n",
       "      <td>70</td>\n",
       "      <td>33.50</td>\n",
       "      <td>ST</td>\n",
       "      <td>coal</td>\n",
       "    </tr>\n",
       "    <tr>\n",
       "      <th>11</th>\n",
       "      <td>1.0</td>\n",
       "      <td>11</td>\n",
       "      <td>11</td>\n",
       "      <td>71</td>\n",
       "      <td>33.50</td>\n",
       "      <td>ST</td>\n",
       "      <td>coal</td>\n",
       "    </tr>\n",
       "    <tr>\n",
       "      <th>12</th>\n",
       "      <td>1.0</td>\n",
       "      <td>12</td>\n",
       "      <td>12</td>\n",
       "      <td>72</td>\n",
       "      <td>33.50</td>\n",
       "      <td>ST</td>\n",
       "      <td>coal</td>\n",
       "    </tr>\n",
       "    <tr>\n",
       "      <th>13</th>\n",
       "      <td>1.0</td>\n",
       "      <td>13</td>\n",
       "      <td>13</td>\n",
       "      <td>73</td>\n",
       "      <td>33.50</td>\n",
       "      <td>ST</td>\n",
       "      <td>coal</td>\n",
       "    </tr>\n",
       "    <tr>\n",
       "      <th>14</th>\n",
       "      <td>1.0</td>\n",
       "      <td>14</td>\n",
       "      <td>14</td>\n",
       "      <td>76</td>\n",
       "      <td>4.80</td>\n",
       "      <td>GT</td>\n",
       "      <td>ng</td>\n",
       "    </tr>\n",
       "  </tbody>\n",
       "</table>\n",
       "</div>"
      ],
      "text/plain": [
       "      u  name  idx  bus      Sn gentype  genfuel\n",
       "0   1.0    47   47  189  682.98      NB  nuclear\n",
       "1   1.0     1    1   49    5.44      ST     coal\n",
       "2   1.0     2    2   50    5.44      ST     coal\n",
       "3   1.0     3    3   51    5.44      ST     coal\n",
       "4   1.0     4    4   52    5.44      ST     coal\n",
       "5   1.0     5    5   53   10.88      ST     coal\n",
       "6   1.0     6    6   65  180.48      W2     wind\n",
       "7   1.0     7    7   67    5.64      ST     coal\n",
       "8   1.0     8    8   68   33.50      ST     coal\n",
       "9   1.0     9    9   69   33.50      ST     coal\n",
       "10  1.0    10   10   70   33.50      ST     coal\n",
       "11  1.0    11   11   71   33.50      ST     coal\n",
       "12  1.0    12   12   72   33.50      ST     coal\n",
       "13  1.0    13   13   73   33.50      ST     coal\n",
       "14  1.0    14   14   76    4.80      GT       ng"
      ]
     },
     "execution_count": 5,
     "metadata": {},
     "output_type": "execute_result"
    }
   ],
   "source": [
    "stg = sp.StaticGen.as_df()\n",
    "stg.head(15)[['u','name','idx','bus','Sn','gentype','genfuel']]"
   ]
  },
  {
   "cell_type": "markdown",
   "metadata": {},
   "source": [
    "## Dynamic Models Replacement"
   ]
  },
  {
   "cell_type": "markdown",
   "metadata": {},
   "source": [
    "In the original dynamic case, only ``GENROU`` and ``TGOV1`` is used.\n",
    "To better represent the dynamic behavior, following replacements are made:\n",
    "1. W2 type gen, replace GENROU with Wind Generations\n",
    "1. ST type gen, replace its TGOV1N with IEEEG1\n",
    "1. GT type gen, replace its TGOV1N with GAST"
   ]
  },
  {
   "cell_type": "code",
   "execution_count": 6,
   "metadata": {},
   "outputs": [
    {
     "name": "stderr",
     "output_type": "stream",
     "text": [
      "Working directory: \"/Users/jinningwang/work/turbinegov\"\n",
      "> Reloaded generated Python code of module \"pycode\".\n",
      "Parsing input file \"./ACTIVSg200/IL200_dyn.xlsx\"...\n",
      "Input file parsed in 0.0717 seconds.\n"
     ]
    },
    {
     "data": {
      "text/plain": [
       "'Toggle_1'"
      ]
     },
     "execution_count": 6,
     "metadata": {},
     "output_type": "execute_result"
    }
   ],
   "source": [
    "# load the dynamics case but don't set up it\n",
    "sa = andes.load('./ACTIVSg200/IL200_dyn.xlsx',\n",
    "                setup=False, no_output=True,\n",
    "                default_config=True)\n",
    "\n",
    "# add a Toggle to set up a generator trip event\n",
    "sa.add(model='Toggle', param_dict=dict(u=1, t=1,\n",
    "                                       model='GENROU', dev='GENROU_2'))"
   ]
  },
  {
   "cell_type": "markdown",
   "metadata": {},
   "source": [
    "### GENROU -> [WT2G](https://www.esig.energy/wiki-main-page/wt2-generic-wind-model/) -> Exsiting models\n",
    "\n",
    "This replacement is a little bit tricky, as we need to map WT2G further to existing models.\n",
    "\n",
    "1. REGCA1: This model represents the renewable energy generator/converter dynamics. It is the core model for the generator's electrical behavior.\n",
    "1. REECA1: This model handles the electrical control aspects, such as voltage regulation and reactive power control. It works in conjunction with REGCA1.\n",
    "1. REPCA1: This model represents plant-level control, including active power control and coordination of multiple turbines within a wind farm.\n",
    "1. WTPTA1: This model simulates the pitch control mechanism, which adjusts the blade angle to regulate power output and protect the turbine.\n",
    "1. WTDTA1: This model represents the drive-train dynamics, including the mechanical coupling between the turbine rotor and the generator.\n",
    "1. WTARA1: This model simulates the aerodynamic behavior of the wind turbine, including the interaction between wind speed and rotor dynamics."
   ]
  },
  {
   "cell_type": "code",
   "execution_count": 7,
   "metadata": {},
   "outputs": [
    {
     "data": {
      "text/plain": [
       "True"
      ]
     },
     "execution_count": 7,
     "metadata": {},
     "output_type": "execute_result"
    }
   ],
   "source": [
    "# In the AMS case, get the StaticGen idx for type W2, ST, GT, respectively\n",
    "stg_idxes = sp.StaticGen.find_idx(keys='gentype',\n",
    "                                  values=['W2', 'ST', 'GT'],\n",
    "                                  allow_all=True)\n",
    "stg_w2t = stg_idxes[0]\n",
    "stg_st = stg_idxes[1]\n",
    "stg_gt = stg_idxes[2]\n",
    "\n",
    "# In the ANDES case, get the corresponding SynGen idx\n",
    "syg_w2t = sa.SynGen.find_idx(keys='gen', values=stg_w2t)\n",
    "syg_st = sa.SynGen.find_idx(keys='gen', values=stg_st)\n",
    "syg_gt = sa.SynGen.find_idx(keys='gen', values=stg_gt)\n",
    "\n",
    "# Turn off the W2TG, as they will be repalced with renewable generators\n",
    "# NOTE: we use `alter` here to ensure the changes can be saved\n",
    "# in the exported case\n",
    "sa.SynGen.alter(src='u', value=0, idx=syg_w2t)\n",
    "\n",
    "# In the ANDES case, get the corresponding TurbineGov idx\n",
    "tg_w2t = sa.TurbineGov.find_idx(keys='syn', values=syg_w2t)\n",
    "tg_st = sa.TurbineGov.find_idx(keys='syn', values=syg_st)\n",
    "tg_gt = sa.TurbineGov.find_idx(keys='syn', values=syg_gt)\n",
    "\n",
    "# Turn off all of them, as some of them will be replaced with\n",
    "# renewable governors or other governors\n",
    "sa.TurbineGov.alter(src='u', value=0,\n",
    "                    idx=tg_w2t + tg_st + tg_gt)"
   ]
  },
  {
   "cell_type": "markdown",
   "metadata": {},
   "source": [
    "### TGOV1N -> [IEEEG1](https://www.powerworld.com/WebHelp/Content/TransientModels_HTML/Governor%20IEEEG1,%20IEEEG1D%20and%20IEEEG1_GE.htm)\n",
    "\n",
    "|   TGOV1N         |   IEEEG1         |   Notes                       |\n",
    "|------------------|------------------|--------------------------------|\n",
    "| Tn               | Tn               | Direct mapping                |\n",
    "| R                | K                | K = 1/R                       |\n",
    "| T1               | T1               | Direct mapping                |\n",
    "| Vmax             | Pmax             | Direct mapping                |\n",
    "| Vmin             | Pmin             | Direct mapping                |\n",
    "| T2               | T2               | Direct mapping                |\n",
    "| T3               | T5               | Reheater time constant        |\n",
    "| Dt               | --               | Discard                       |\n",
    "\n",
    "Unmapped parameters: T3, Uo, Uc, K1-K8, T4-T7"
   ]
  },
  {
   "cell_type": "code",
   "execution_count": 8,
   "metadata": {},
   "outputs": [],
   "source": [
    "# --- convert TGOV1N attached to ST type generators to IEEEG1 ---\n",
    "IEEEG1 = pd.DataFrame()\n",
    "# mapped parameters\n",
    "IEEEG1['u'] = [1] * len(tg_gt)\n",
    "IEEEG1['idx'] = [f'IEEEG1_{i}' for i in range(1, len(tg_gt)+1)]\n",
    "IEEEG1['syn'] = sa.TurbineGov.get(src='syn', idx=tg_gt)\n",
    "IEEEG1['syn2'] = [None] * len(tg_gt)\n",
    "IEEEG1['Tn'] = sa.TurbineGov.get(src='Tn', idx=tg_gt)\n",
    "IEEEG1['wref0'] = sa.TGOV1N.get(src='wref0', idx=tg_gt)\n",
    "IEEEG1['K'] = [1/R for R in sa.TurbineGov.get(src='R', idx=tg_gt)]\n",
    "IEEEG1['T1'] = sa.TurbineGov.get(src='T1', idx=tg_gt)\n",
    "IEEEG1['PMAX'] = sa.TurbineGov.get(src='VMAX', idx=tg_gt)\n",
    "IEEEG1['PMIN'] = sa.TurbineGov.get(src='VMIN', idx=tg_gt)\n",
    "IEEEG1['T2'] = sa.TurbineGov.get(src='T2', idx=tg_gt)\n",
    "IEEEG1['T5'] = sa.TurbineGov.get(src='T3', idx=tg_gt)\n",
    "# unmapped parameters\n",
    "IEEEG1['UO'] = sa.IEEEG1.UO.default\n",
    "IEEEG1['UC'] = sa.IEEEG1.UC.default\n",
    "IEEEG1['T3'] = sa.IEEEG1.T3.default\n",
    "IEEEG1['T4'] = sa.IEEEG1.T4.default\n",
    "IEEEG1['T6'] = sa.IEEEG1.T6.default\n",
    "IEEEG1['T7'] = sa.IEEEG1.T7.default\n",
    "IEEEG1['K1'] = sa.IEEEG1.K1.default\n",
    "IEEEG1['K3'] = sa.IEEEG1.K3.default\n",
    "IEEEG1['K5'] = sa.IEEEG1.K5.default\n",
    "IEEEG1['K7'] = sa.IEEEG1.K7.default\n",
    "IEEEG1['K2'] = sa.IEEEG1.K2.default\n",
    "IEEEG1['K4'] = sa.IEEEG1.K4.default\n",
    "IEEEG1['K6'] = sa.IEEEG1.K6.default\n",
    "IEEEG1['K8'] = sa.IEEEG1.K8.default\n",
    "\n",
    "# --- add the IEEEG1 to the system ---\n",
    "for row in IEEEG1.itertuples(index=False):\n",
    "    sa.IEEEG1.add(**row._asdict())"
   ]
  },
  {
   "cell_type": "markdown",
   "metadata": {},
   "source": [
    "### TGOV1N -> [GAST](https://www.powerworld.com/WebHelp/Content/TransientModels_HTML/Governor%20GAST_PTI%20and%20GASTD.htm)\n",
    "\n",
    "|   TGOV1N         |   GAST           |   Notes                       |\n",
    "|------------------|------------------|--------------------------------|\n",
    "| Tn               | Tn               | Direct mapping                |\n",
    "| R                | R                | Direct mapping                |\n",
    "| T1               | T1               | Direct mapping                |\n",
    "| Vmax             | Vmax             | Direct mapping                |\n",
    "| Vmin             | Vmin             | Direct mapping                |\n",
    "| T2               | T2               | Direct mapping                |\n",
    "| T3               | T3               | Direct mapping                |\n",
    "| Dt               | Dturb            | Direct mapping                |\n",
    "\n",
    "Unmapped parameters: Kt, At"
   ]
  },
  {
   "cell_type": "code",
   "execution_count": 9,
   "metadata": {},
   "outputs": [],
   "source": [
    "# --- convert TGOV1N attached to GT type generators to GAST ---\n",
    "GAST = pd.DataFrame()\n",
    "# mapped parameters\n",
    "GAST['u'] = [1] * len(tg_gt)\n",
    "GAST['idx'] = [f'GAST_{i}' for i in range(1, len(tg_gt)+1)]\n",
    "GAST['syn'] = sa.TurbineGov.get(src='syn', idx=tg_gt)\n",
    "GAST['Tn'] = sa.TurbineGov.get(src='Tn', idx=tg_gt)\n",
    "GAST['wref0'] = sa.TurbineGov.get(src='wref0', idx=tg_gt)\n",
    "GAST['R'] = sa.TurbineGov.get(src='R', idx=tg_gt)\n",
    "GAST['VMAX'] = sa.TurbineGov.get(src='VMAX', idx=tg_gt)\n",
    "GAST['VMIN'] = sa.TurbineGov.get(src='VMIN', idx=tg_gt)\n",
    "GAST['T2'] = sa.TurbineGov.get(src='T2', idx=tg_gt)\n",
    "GAST['T3'] = sa.TurbineGov.get(src='T3', idx=tg_gt)\n",
    "GAST['Dt'] = sa.TurbineGov.get(src='Dt', idx=tg_gt)\n",
    "# unmapped parameters\n",
    "GAST['KT'] = sa.GAST.KT.default\n",
    "GAST['AT'] = sa.GAST.AT.default\n",
    "\n",
    "# --- add the GAST to the system ---\n",
    "for row in GAST.itertuples(index=False):\n",
    "    sa.GAST.add(**row._asdict())"
   ]
  },
  {
   "cell_type": "code",
   "execution_count": 10,
   "metadata": {},
   "outputs": [
    {
     "name": "stderr",
     "output_type": "stream",
     "text": [
      "xlsx file written to \"ACTIVSg200/IL200_dyn_base.xlsx\"\n"
     ]
    },
    {
     "data": {
      "text/plain": [
       "True"
      ]
     },
     "execution_count": 10,
     "metadata": {},
     "output_type": "execute_result"
    }
   ],
   "source": [
    "# Export to XLSX for Further Use\n",
    "\n",
    "andes.io.xlsx.write(sa, 'ACTIVSg200/IL200_dyn_base.xlsx',\n",
    "                    overwrite=True)"
   ]
  },
  {
   "cell_type": "markdown",
   "metadata": {},
   "source": [
    "## Test TDS"
   ]
  },
  {
   "cell_type": "code",
   "execution_count": 11,
   "metadata": {},
   "outputs": [
    {
     "name": "stderr",
     "output_type": "stream",
     "text": [
      "System internal structure set up in 0.0183 seconds.\n"
     ]
    },
    {
     "data": {
      "text/plain": [
       "True"
      ]
     },
     "execution_count": 11,
     "metadata": {},
     "output_type": "execute_result"
    }
   ],
   "source": [
    "sa.setup()"
   ]
  },
  {
   "cell_type": "code",
   "execution_count": 12,
   "metadata": {},
   "outputs": [
    {
     "name": "stderr",
     "output_type": "stream",
     "text": [
      "-> System connectivity check results:\n",
      "  No islanded bus detected.\n",
      "  System is interconnected.\n",
      "  Each island has a slack bus correctly defined and enabled.\n",
      "\n",
      "-> Power flow calculation\n",
      "           Numba: Off\n",
      "   Sparse solver: KLU\n",
      " Solution method: NR method\n",
      "Power flow initialized in 0.0037 seconds.\n",
      "0: |F(x)| = 0.008972060491\n",
      "1: |F(x)| = 2.370463282e-06\n",
      "2: |F(x)| = 2.678968158e-13\n",
      "Converged in 3 iterations in 0.0032 seconds.\n"
     ]
    },
    {
     "data": {
      "text/plain": [
       "True"
      ]
     },
     "execution_count": 12,
     "metadata": {},
     "output_type": "execute_result"
    }
   ],
   "source": [
    "sa.PFlow.run()"
   ]
  },
  {
   "cell_type": "code",
   "execution_count": 13,
   "metadata": {},
   "outputs": [
    {
     "name": "stderr",
     "output_type": "stream",
     "text": [
      "GENROU (vf range) out of typical lower limit.\n",
      "\n",
      "   idx     | values | limit\n",
      "-----------+--------+------\n",
      " GENROU_6  | 0      | 1    \n",
      " GENROU_7  | 0.957  | 1    \n",
      " GENROU_16 | 0      | 1    \n",
      " GENROU_17 | 0      | 1    \n",
      " GENROU_20 | 0      | 1    \n",
      " GENROU_22 | 0      | 1    \n",
      " GENROU_23 | 0      | 1    \n",
      " GENROU_24 | 0      | 1    \n",
      " GENROU_25 | 0      | 1    \n",
      " GENROU_31 | 0      | 1    \n",
      " GENROU_37 | 0      | 1    \n",
      " GENROU_38 | 0      | 1    \n",
      " GENROU_39 | 0      | 1    \n",
      " GENROU_40 | 0      | 1    \n",
      " GENROU_42 | 0      | 1    \n",
      " GENROU_43 | 0      | 1    \n",
      " GENROU_48 | 0      | 1    \n",
      " GENROU_49 | 0      | 1    \n",
      "\n",
      "\n",
      "Initialization for dynamics completed in 0.0260 seconds.\n",
      "Initialization was successful.\n"
     ]
    }
   ],
   "source": [
    "_ = sa.TDS.init()"
   ]
  },
  {
   "cell_type": "code",
   "execution_count": 14,
   "metadata": {},
   "outputs": [
    {
     "name": "stderr",
     "output_type": "stream",
     "text": [
      "\n",
      "-> Time Domain Simulation Summary:\n",
      "Sparse Solver: KLU\n",
      "Simulation time: 0.0-40 s.\n",
      "Fixed step size: h=33.33 ms. Shrink if not converged.\n"
     ]
    },
    {
     "name": "stdout",
     "output_type": "stream",
     "text": [
      "<Toggle Toggle_1>: GENROU.GENROU_2 status changed to 0 at t=1.0 sec.\n"
     ]
    },
    {
     "name": "stderr",
     "output_type": "stream",
     "text": [
      "Simulation to t=40.00 sec completed in 2.2452 seconds.\n"
     ]
    },
    {
     "data": {
      "text/plain": [
       "True"
      ]
     },
     "execution_count": 14,
     "metadata": {},
     "output_type": "execute_result"
    }
   ],
   "source": [
    "sa.TDS.config.tf = 40\n",
    "sa.TDS.config.criteria = 0\n",
    "sa.TDS.config.no_tqdm = True\n",
    "\n",
    "sa.TDS.run()"
   ]
  },
  {
   "cell_type": "code",
   "execution_count": 15,
   "metadata": {},
   "outputs": [
    {
     "data": {
      "image/png": "[encoded data removed]",
      "text/plain": [
       "<Figure size 640x480 with 1 Axes>"
      ]
     },
     "metadata": {},
     "output_type": "display_data"
    }
   ],
   "source": [
    "_ = sa.TDS.plt.plot(sa.GENROU.omega,\n",
    "                    line_width=1.5,\n",
    "                    ymin=59.99, ymax=60.001,\n",
    "                    ytimes=sa.config.freq,\n",
    "                    show=False, grid=True,\n",
    "                    ylabel='Gen. Freq. [Hz]')"
   ]
  }
 ],
 "metadata": {
  "kernelspec": {
   "display_name": "amsre",
   "language": "python",
   "name": "python3"
  },
  "language_info": {
   "codemirror_mode": {
    "name": "ipython",
    "version": 3
   },
   "file_extension": ".py",
   "mimetype": "text/x-python",
   "name": "python",
   "nbconvert_exporter": "python",
   "pygments_lexer": "ipython3",
   "version": "3.12.0"
  }
 },
 "nbformat": 4,
 "nbformat_minor": 2
}
