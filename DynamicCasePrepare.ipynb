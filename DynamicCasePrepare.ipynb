{
 "cells": [
  {
   "cell_type": "markdown",
   "metadata": {},
   "source": [
    "# Dynamic Case Preparation"
   ]
  },
  {
   "cell_type": "code",
   "execution_count": 1,
   "metadata": {},
   "outputs": [],
   "source": [
    "import numpy as np\n",
    "import pandas as pd\n",
    "\n",
    "import matplotlib.pyplot as plt\n",
    "\n",
    "import andes\n",
    "import ams"
   ]
  },
  {
   "cell_type": "code",
   "execution_count": 2,
   "metadata": {},
   "outputs": [],
   "source": [
    "%matplotlib inline"
   ]
  },
  {
   "cell_type": "code",
   "execution_count": 3,
   "metadata": {},
   "outputs": [],
   "source": [
    "andes.config_logger(stream_level=20)\n",
    "ams.config_logger(stream_level=20)"
   ]
  },
  {
   "cell_type": "markdown",
   "metadata": {},
   "source": [
    "In the block below and code block 14, change postfix to \"_50wt\" to get the 50% wind turbine dynamic case."
   ]
  },
  {
   "cell_type": "code",
   "execution_count": 4,
   "metadata": {},
   "outputs": [
    {
     "name": "stderr",
     "output_type": "stream",
     "text": [
      "Working directory: \"/Users/jinningwang/work/turbinegov\"\n",
      "Parsing input file \"./ACTIVSg200/IL200_opf_50wt.xlsx\"...\n",
      "Input file parsed in 0.1045 seconds.\n",
      "Zero Line parameters detected, adjusted to default values: rate_b, rate_c, amax, amin.\n",
      "System set up in 0.0021 seconds.\n"
     ]
    }
   ],
   "source": [
    "sp = ams.load('./ACTIVSg200/IL200_opf_50wt.xlsx',\n",
    "              setup=True, no_output=True,\n",
    "              default_config=True)"
   ]
  },
  {
   "cell_type": "markdown",
   "metadata": {},
   "source": [
    "## Inspect Case\n",
    "\n",
    "There are different types of generators:\n",
    "- ST: Steam Turbine (includes nuclear, geothermal, and solar steam)\n",
    "- NB: ST - Boiling Water Nuclear Reactor\n",
    "- W2: Wind Turbine, Type 2\n",
    "- GT: Combustion (Gas) Turbine"
   ]
  },
  {
   "cell_type": "code",
   "execution_count": 5,
   "metadata": {},
   "outputs": [
    {
     "data": {
      "text/html": [
       "<div>\n",
       "<style scoped>\n",
       "    .dataframe tbody tr th:only-of-type {\n",
       "        vertical-align: middle;\n",
       "    }\n",
       "\n",
       "    .dataframe tbody tr th {\n",
       "        vertical-align: top;\n",
       "    }\n",
       "\n",
       "    .dataframe thead th {\n",
       "        text-align: right;\n",
       "    }\n",
       "</style>\n",
       "<table border=\"1\" class=\"dataframe\">\n",
       "  <thead>\n",
       "    <tr style=\"text-align: right;\">\n",
       "      <th></th>\n",
       "      <th>u</th>\n",
       "      <th>name</th>\n",
       "      <th>idx</th>\n",
       "      <th>bus</th>\n",
       "      <th>Sn</th>\n",
       "      <th>gentype</th>\n",
       "      <th>genfuel</th>\n",
       "    </tr>\n",
       "  </thead>\n",
       "  <tbody>\n",
       "    <tr>\n",
       "      <th>0</th>\n",
       "      <td>1.0</td>\n",
       "      <td>47</td>\n",
       "      <td>47</td>\n",
       "      <td>189</td>\n",
       "      <td>682.98</td>\n",
       "      <td>NB</td>\n",
       "      <td>nuclear</td>\n",
       "    </tr>\n",
       "    <tr>\n",
       "      <th>1</th>\n",
       "      <td>1.0</td>\n",
       "      <td>1</td>\n",
       "      <td>1</td>\n",
       "      <td>49</td>\n",
       "      <td>5.44</td>\n",
       "      <td>ST</td>\n",
       "      <td>coal</td>\n",
       "    </tr>\n",
       "    <tr>\n",
       "      <th>2</th>\n",
       "      <td>1.0</td>\n",
       "      <td>2</td>\n",
       "      <td>2</td>\n",
       "      <td>50</td>\n",
       "      <td>5.44</td>\n",
       "      <td>ST</td>\n",
       "      <td>coal</td>\n",
       "    </tr>\n",
       "    <tr>\n",
       "      <th>3</th>\n",
       "      <td>1.0</td>\n",
       "      <td>3</td>\n",
       "      <td>3</td>\n",
       "      <td>51</td>\n",
       "      <td>5.44</td>\n",
       "      <td>ST</td>\n",
       "      <td>coal</td>\n",
       "    </tr>\n",
       "    <tr>\n",
       "      <th>4</th>\n",
       "      <td>1.0</td>\n",
       "      <td>4</td>\n",
       "      <td>4</td>\n",
       "      <td>52</td>\n",
       "      <td>5.44</td>\n",
       "      <td>ST</td>\n",
       "      <td>coal</td>\n",
       "    </tr>\n",
       "    <tr>\n",
       "      <th>5</th>\n",
       "      <td>1.0</td>\n",
       "      <td>5</td>\n",
       "      <td>5</td>\n",
       "      <td>53</td>\n",
       "      <td>10.88</td>\n",
       "      <td>ST</td>\n",
       "      <td>coal</td>\n",
       "    </tr>\n",
       "    <tr>\n",
       "      <th>6</th>\n",
       "      <td>1.0</td>\n",
       "      <td>6</td>\n",
       "      <td>6</td>\n",
       "      <td>65</td>\n",
       "      <td>180.48</td>\n",
       "      <td>W2</td>\n",
       "      <td>wind</td>\n",
       "    </tr>\n",
       "    <tr>\n",
       "      <th>7</th>\n",
       "      <td>1.0</td>\n",
       "      <td>7</td>\n",
       "      <td>7</td>\n",
       "      <td>67</td>\n",
       "      <td>5.64</td>\n",
       "      <td>ST</td>\n",
       "      <td>coal</td>\n",
       "    </tr>\n",
       "    <tr>\n",
       "      <th>8</th>\n",
       "      <td>1.0</td>\n",
       "      <td>8</td>\n",
       "      <td>8</td>\n",
       "      <td>68</td>\n",
       "      <td>33.50</td>\n",
       "      <td>ST</td>\n",
       "      <td>coal</td>\n",
       "    </tr>\n",
       "    <tr>\n",
       "      <th>9</th>\n",
       "      <td>1.0</td>\n",
       "      <td>9</td>\n",
       "      <td>9</td>\n",
       "      <td>69</td>\n",
       "      <td>33.50</td>\n",
       "      <td>ST</td>\n",
       "      <td>coal</td>\n",
       "    </tr>\n",
       "    <tr>\n",
       "      <th>10</th>\n",
       "      <td>1.0</td>\n",
       "      <td>10</td>\n",
       "      <td>10</td>\n",
       "      <td>70</td>\n",
       "      <td>33.50</td>\n",
       "      <td>ST</td>\n",
       "      <td>coal</td>\n",
       "    </tr>\n",
       "    <tr>\n",
       "      <th>11</th>\n",
       "      <td>1.0</td>\n",
       "      <td>11</td>\n",
       "      <td>11</td>\n",
       "      <td>71</td>\n",
       "      <td>33.50</td>\n",
       "      <td>ST</td>\n",
       "      <td>coal</td>\n",
       "    </tr>\n",
       "    <tr>\n",
       "      <th>12</th>\n",
       "      <td>1.0</td>\n",
       "      <td>12</td>\n",
       "      <td>12</td>\n",
       "      <td>72</td>\n",
       "      <td>33.50</td>\n",
       "      <td>ST</td>\n",
       "      <td>coal</td>\n",
       "    </tr>\n",
       "    <tr>\n",
       "      <th>13</th>\n",
       "      <td>1.0</td>\n",
       "      <td>13</td>\n",
       "      <td>13</td>\n",
       "      <td>73</td>\n",
       "      <td>33.50</td>\n",
       "      <td>ST</td>\n",
       "      <td>coal</td>\n",
       "    </tr>\n",
       "    <tr>\n",
       "      <th>14</th>\n",
       "      <td>1.0</td>\n",
       "      <td>14</td>\n",
       "      <td>14</td>\n",
       "      <td>76</td>\n",
       "      <td>4.80</td>\n",
       "      <td>GT</td>\n",
       "      <td>ng</td>\n",
       "    </tr>\n",
       "  </tbody>\n",
       "</table>\n",
       "</div>"
      ],
      "text/plain": [
       "      u  name  idx  bus      Sn gentype  genfuel\n",
       "0   1.0    47   47  189  682.98      NB  nuclear\n",
       "1   1.0     1    1   49    5.44      ST     coal\n",
       "2   1.0     2    2   50    5.44      ST     coal\n",
       "3   1.0     3    3   51    5.44      ST     coal\n",
       "4   1.0     4    4   52    5.44      ST     coal\n",
       "5   1.0     5    5   53   10.88      ST     coal\n",
       "6   1.0     6    6   65  180.48      W2     wind\n",
       "7   1.0     7    7   67    5.64      ST     coal\n",
       "8   1.0     8    8   68   33.50      ST     coal\n",
       "9   1.0     9    9   69   33.50      ST     coal\n",
       "10  1.0    10   10   70   33.50      ST     coal\n",
       "11  1.0    11   11   71   33.50      ST     coal\n",
       "12  1.0    12   12   72   33.50      ST     coal\n",
       "13  1.0    13   13   73   33.50      ST     coal\n",
       "14  1.0    14   14   76    4.80      GT       ng"
      ]
     },
     "execution_count": 5,
     "metadata": {},
     "output_type": "execute_result"
    }
   ],
   "source": [
    "stg = sp.StaticGen.as_df()\n",
    "stg.head(15)[['u','name','idx','bus','Sn','gentype','genfuel']]"
   ]
  },
  {
   "cell_type": "markdown",
   "metadata": {},
   "source": [
    "## Dynamic Models Replacement"
   ]
  },
  {
   "cell_type": "markdown",
   "metadata": {},
   "source": [
    "In the original dynamic case, only ``GENROU`` and ``TGOV1`` is used.\n",
    "To better represent the dynamic behavior, following replacements are made:\n",
    "1. W2 type gen, replace GENROU with Wind Generations\n",
    "1. ST type gen, replace its TGOV1N with IEEEG1\n",
    "1. GT type gen, replace its TGOV1N with GAST"
   ]
  },
  {
   "cell_type": "code",
   "execution_count": 6,
   "metadata": {},
   "outputs": [
    {
     "name": "stderr",
     "output_type": "stream",
     "text": [
      "Working directory: \"/Users/jinningwang/work/turbinegov\"\n",
      "> Reloaded generated Python code of module \"pycode\".\n",
      "Parsing input file \"./ACTIVSg200/IL200_dyn.xlsx\"...\n",
      "Input file parsed in 0.0758 seconds.\n"
     ]
    }
   ],
   "source": [
    "# load the dynamics case but don't set up it\n",
    "sa = andes.load('./ACTIVSg200/IL200_dyn.xlsx',\n",
    "                setup=False, no_output=True,\n",
    "                default_config=True)"
   ]
  },
  {
   "cell_type": "markdown",
   "metadata": {},
   "source": [
    "WT2G SynGen: ['GENROU_6', 'GENROU_22', 'GENROU_23', 'GENROU_24', 'GENROU_25', 'GENROU_31']"
   ]
  },
  {
   "cell_type": "code",
   "execution_count": 7,
   "metadata": {},
   "outputs": [],
   "source": [
    "# In the AMS case, get the StaticGen idx for type W2, ST, GT, respectively\n",
    "stg_idxes = sp.StaticGen.find_idx(keys='gentype',\n",
    "                                  values=['W2', 'ST', 'GT'],\n",
    "                                  allow_all=True)\n",
    "stg_w2t = stg_idxes[0]\n",
    "stg_st = stg_idxes[1]\n",
    "stg_gt = stg_idxes[2]\n",
    "\n",
    "n_w2t = len(stg_w2t)\n",
    "n_st = len(stg_st)\n",
    "n_gt = len(stg_gt)\n",
    "\n",
    "# In the ANDES case, get the corresponding SynGen idx\n",
    "syg_w2t = sa.SynGen.find_idx(keys='gen', values=stg_w2t)\n",
    "syg_st = sa.SynGen.find_idx(keys='gen', values=stg_st)\n",
    "syg_gt = sa.SynGen.find_idx(keys='gen', values=stg_gt)\n",
    "\n",
    "# Turn off the W2TG, as they will be repalced with renewable generators\n",
    "# NOTE: we use `alter` here to ensure the changes can be saved\n",
    "# in the exported case\n",
    "sa.SynGen.alter(src='u', value=0, idx=syg_w2t)\n",
    "\n",
    "# In the ANDES case, get the corresponding TurbineGov idx\n",
    "tg_w2t = sa.TurbineGov.find_idx(keys='syn', values=syg_w2t)\n",
    "tg_st = sa.TurbineGov.find_idx(keys='syn', values=syg_st)\n",
    "tg_gt = sa.TurbineGov.find_idx(keys='syn', values=syg_gt)\n",
    "\n",
    "n_gt = len(tg_gt)\n",
    "n_st = len(tg_st)\n",
    "n_w2t = len(tg_w2t)\n",
    "\n",
    "# # Turn off all of them, as some of them will be replaced with\n",
    "# # renewable governors or other governors\n",
    "# sa.TurbineGov.alter(src='u', value=0,\n",
    "#                     idx=tg_w2t + tg_st + tg_gt)"
   ]
  },
  {
   "cell_type": "markdown",
   "metadata": {},
   "source": [
    "### TGOV1N -> [IEEEG1](https://www.powerworld.com/WebHelp/Content/TransientModels_HTML/Governor%20IEEEG1,%20IEEEG1D%20and%20IEEEG1_GE.htm)\n",
    "\n",
    "Replace TGOV1N attached to ST type generators with IEEEG1\n",
    "\n",
    "|   TGOV1N         |   IEEEG1         |   Notes                       |\n",
    "|------------------|------------------|--------------------------------|\n",
    "| Tn               | Tn               | Direct mapping                |\n",
    "| R                | K                | K = 1/R                       |\n",
    "| T1               | T1               | Direct mapping                |\n",
    "| Vmax             | Pmax             | Direct mapping                |\n",
    "| Vmin             | Pmin             | Direct mapping                |\n",
    "| T2               | T2               | Direct mapping                |\n",
    "| T3               | T5               | Reheater time constant        |\n",
    "| Dt               | --               | Discard                       |\n",
    "\n",
    "Unmapped parameters: T3, Uo, Uc, K1-K8, T4-T7"
   ]
  },
  {
   "cell_type": "code",
   "execution_count": 8,
   "metadata": {},
   "outputs": [
    {
     "data": {
      "text/plain": [
       "True"
      ]
     },
     "execution_count": 8,
     "metadata": {},
     "output_type": "execute_result"
    }
   ],
   "source": [
    "IEEEG1 = pd.DataFrame()\n",
    "\n",
    "# mapped parameters\n",
    "IEEEG1['u'] = [1] * n_st\n",
    "IEEEG1['idx'] = [f'IEEEG1_{i}' for i in range(1, n_st+1)]\n",
    "IEEEG1['syn'] = sa.TurbineGov.get(src='syn', idx=tg_st)\n",
    "IEEEG1['syn2'] = [None] * n_st\n",
    "IEEEG1['Tn'] = sa.TurbineGov.get(src='Tn', idx=tg_st)\n",
    "IEEEG1['wref0'] = sa.TGOV1N.get(src='wref0', idx=tg_st)\n",
    "IEEEG1['K'] = [1/R for R in sa.TurbineGov.get(src='R', idx=tg_st)]\n",
    "IEEEG1['T1'] = sa.TurbineGov.get(src='T1', idx=tg_st)\n",
    "IEEEG1['PMAX'] = sa.TurbineGov.get(src='VMAX', idx=tg_st)\n",
    "IEEEG1['PMIN'] = sa.TurbineGov.get(src='VMIN', idx=tg_st)\n",
    "IEEEG1['T2'] = sa.TurbineGov.get(src='T2', idx=tg_st)\n",
    "IEEEG1['T5'] = sa.TurbineGov.get(src='T3', idx=tg_st)\n",
    "\n",
    "# unmapped parameters are skipped and default values are used\n",
    "# UO, UC, T3, T4, T6, T7, K1, K3, K5, K7, K2, K4, K6, K8\n",
    "\n",
    "# --- add the IEEEG1 to the system ---\n",
    "for row in IEEEG1.itertuples(index=False):\n",
    "    sa.add(model='IEEEG1', param_dict={**row._asdict()})\n",
    "\n",
    "# turn off the original governors\n",
    "sa.TurbineGov.alter(src='u', value=0, idx=tg_st)"
   ]
  },
  {
   "cell_type": "markdown",
   "metadata": {},
   "source": [
    "### TGOV1N -> [GAST](https://www.powerworld.com/WebHelp/Content/TransientModels_HTML/Governor%20GAST_PTI%20and%20GASTD.htm)\n",
    "\n",
    "Replace TGOV1N attached to GT type generators with GAST\n",
    "\n",
    "|   TGOV1N         |   GAST           |   Notes                       |\n",
    "|------------------|------------------|--------------------------------|\n",
    "| Tn               | Tn               | Direct mapping                |\n",
    "| R                | R                | Direct mapping                |\n",
    "| T1               | T1               | Direct mapping                |\n",
    "| Vmax             | Vmax             | Direct mapping                |\n",
    "| Vmin             | Vmin             | Direct mapping                |\n",
    "| T2               | T2               | Direct mapping                |\n",
    "| T3               | T3               | Direct mapping                |\n",
    "| Dt               | Dturb            | Direct mapping                |\n",
    "\n",
    "Unmapped parameters: Kt, At"
   ]
  },
  {
   "cell_type": "code",
   "execution_count": 9,
   "metadata": {},
   "outputs": [
    {
     "data": {
      "text/plain": [
       "True"
      ]
     },
     "execution_count": 9,
     "metadata": {},
     "output_type": "execute_result"
    }
   ],
   "source": [
    "# --- convert TGOV1N attached to GT type generators to GAST ---\n",
    "GAST = pd.DataFrame()\n",
    "# mapped parameters\n",
    "GAST['u'] = [1] * n_gt\n",
    "GAST['idx'] = [f'GAST_{i}' for i in range(1, n_gt+1)]\n",
    "GAST['syn'] = sa.TurbineGov.get(src='syn', idx=tg_gt)\n",
    "GAST['Tn'] = sa.TurbineGov.get(src='Tn', idx=tg_gt)\n",
    "GAST['wref0'] = sa.TurbineGov.get(src='wref0', idx=tg_gt)\n",
    "GAST['R'] = sa.TurbineGov.get(src='R', idx=tg_gt)\n",
    "GAST['VMAX'] = sa.TurbineGov.get(src='VMAX', idx=tg_gt)\n",
    "GAST['VMIN'] = sa.TurbineGov.get(src='VMIN', idx=tg_gt)\n",
    "GAST['T2'] = sa.TurbineGov.get(src='T2', idx=tg_gt)\n",
    "GAST['T3'] = sa.TurbineGov.get(src='T3', idx=tg_gt)\n",
    "GAST['Dt'] = sa.TurbineGov.get(src='Dt', idx=tg_gt)\n",
    "\n",
    "# unmapped parameters are skipped and default values are used\n",
    "# KT, AT\n",
    "\n",
    "# --- add the GAST to the system ---\n",
    "for row in GAST.itertuples(index=False):\n",
    "    sa.add(model='GAST', param_dict={**row._asdict()})\n",
    "\n",
    "# turn off the original governors\n",
    "sa.TurbineGov.alter(src='u', value=0, idx=tg_gt)"
   ]
  },
  {
   "cell_type": "markdown",
   "metadata": {},
   "source": [
    "### GENROU -> [WT2G](https://www.esig.energy/wiki-main-page/wt2-generic-wind-model/) \n",
    "\n",
    "Replace GENROU of W2 type generators to WT2G.\n",
    "\n",
    "Let's model \n",
    "\n",
    "1. REGCA1: This model represents the renewable energy generator/converter dynamics. It is the core model for the generator's electrical behavior.\n",
    "1. REECA1: This model handles the electrical control aspects, such as voltage regulation and reactive power control. It works in conjunction with REGCA1.\n",
    "1. REPCA1: This model represents plant-level control, including active power control and coordination of multiple turbines within a wind farm.\n",
    "1. WTPTA1: This model simulates the pitch control mechanism, which adjusts the blade angle to regulate power output and protect the turbine.\n",
    "1. WTDTA1: This model represents the drive-train dynamics, including the mechanical coupling between the turbine rotor and the generator.\n",
    "1. WTARA1: This model simulates the aerodynamic behavior of the wind turbine, including the interaction between wind speed and rotor dynamics.\n",
    "\n",
    "| GENROU/TGOV1/EXAC1 | Wind Model       | Notes                                        |\n",
    "|--------------------|------------------|----------------------------------------------|\n",
    "| H                  | WTPTA1 / WTARA1  | Modeled as equivalent inertia or response    |\n",
    "| Damping (D)        | --               | Often ignored or included in torque model    |\n",
    "| TGOV1 T1, T2, T3   | WTPTA1 T1, T2    | Approximate power control lag matching       |\n",
    "| EXAC1 Ka, Ta       | REECA1 Kpv, Tp   | Voltage regulator gain and filter            |\n",
    "| Pmax/Pmin          | WTPTA1 Pmax, Pmin| Same as torque/power limits                  |\n",
    "| Qmax/Qmin          | REECA1 Qmax/Qmin | Reactive power limits                        |\n",
    "| R (droop)          | WTARA1 Kpg       | Droop gain for active power control          |\n",
    "| Vref               | REECA1 Vref      | Terminal voltage control setpoint            |\n",
    "| Pref               | WTPTA1 Pref      | Active power control setpoint                |\n"
   ]
  },
  {
   "cell_type": "markdown",
   "metadata": {},
   "source": [
    "#### REGCA1"
   ]
  },
  {
   "cell_type": "code",
   "execution_count": 10,
   "metadata": {},
   "outputs": [],
   "source": [
    "REGCA1 = pd.DataFrame()\n",
    "\n",
    "# mapped parameters\n",
    "REGCA1['u'] = [1] * n_w2t\n",
    "REGCA1['idx'] = [f'REGCA_{i}' for i in range(1, n_w2t+1)]\n",
    "REGCA1['bus'] = sa.SynGen.get(src='bus', idx=syg_w2t)\n",
    "REGCA1['gen'] = sa.SynGen.get(src='gen', idx=syg_w2t)\n",
    "REGCA1['Sn'] = sa.SynGen.get(src='Sn', idx=syg_w2t)\n",
    "REGCA1['gammap'] = sa.SynGen.get(src='gammap', idx=syg_w2t)\n",
    "REGCA1['gammaq'] = sa.SynGen.get(src='gammaq', idx=syg_w2t)\n",
    "\n",
    "# unmapped parameters are skipped and default values are used\n",
    "# add to the system\n",
    "for row in REGCA1.itertuples(index=False):\n",
    "    sa.add(model='REGCA1', param_dict={**row._asdict()})"
   ]
  },
  {
   "cell_type": "markdown",
   "metadata": {},
   "source": [
    "#### REECA1"
   ]
  },
  {
   "cell_type": "code",
   "execution_count": 11,
   "metadata": {},
   "outputs": [],
   "source": [
    "REECA1 = pd.DataFrame()\n",
    "\n",
    "# mapped parameters\n",
    "REECA1['u'] = [1] * n_w2t\n",
    "REECA1['idx'] = [f'REECA1_{i}' for i in range(1, n_w2t+1)]\n",
    "REECA1['reg'] = REGCA1['idx'].copy()\n",
    "\n",
    "# unmapped mandatory parameters\n",
    "REECA1['PFFLAG'] = [0] * n_w2t\n",
    "REECA1['VFLAG'] = [0] * n_w2t\n",
    "REECA1['QFLAG'] = [0] * n_w2t\n",
    "REECA1['PFLAG'] = [0] * n_w2t\n",
    "REECA1['PQFLAG'] = [0] * n_w2t\n",
    "REECA1['Vdip'] = [0.8] * n_w2t\n",
    "REECA1['Vup'] = [1.2] * n_w2t\n",
    "REECA1['Trv'] = [0.02] * n_w2t\n",
    "\n",
    "REECA1['dbd1'] = [-0.1] * n_w2t\n",
    "REECA1['dbd2'] = [0.1] * n_w2t\n",
    "REECA1['Kqv'] = [20] * n_w2t\n",
    "REECA1['Thld'] = [-2] * n_w2t\n",
    "REECA1['Thld2'] = [1] * n_w2t\n",
    "REECA1['Vref1'] = [1] * n_w2t\n",
    "REECA1['Imax'] = [10] * n_w2t\n",
    "\n",
    "REECA1['Kqp'] = [1] * n_w2t\n",
    "REECA1['Kqi'] = [0] * n_w2t\n",
    "REECA1['Kvp'] = [1] * n_w2t\n",
    "REECA1['Kvi'] = [0] * n_w2t\n",
    "\n",
    "# unmapped parameters are skipped and default values are used\n",
    "# add to the system\n",
    "for row in REECA1.itertuples(index=False):\n",
    "    sa.add(model='REECA1', param_dict={**row._asdict()})"
   ]
  },
  {
   "cell_type": "markdown",
   "metadata": {},
   "source": [
    "#### REPCA1"
   ]
  },
  {
   "cell_type": "code",
   "execution_count": 12,
   "metadata": {},
   "outputs": [],
   "source": [
    "REPCA1 = pd.DataFrame()\n",
    "\n",
    "# mapped parameters\n",
    "REPCA1['u'] = [1] * n_w2t\n",
    "REPCA1['idx'] = [f'REPCA1_{i}' for i in range(1, n_w2t+1)]\n",
    "REPCA1['ree'] = REECA1['idx']\n",
    "# manually assign mandatory param `line`\n",
    "ree = REPCA1['ree']\n",
    "reg = sa.REECA1.get(src='reg', attr='v', idx=ree)\n",
    "bus = sa.REGCA1.get(src='bus', attr='v', idx=reg)\n",
    "line1 = sa.Line.find_idx(keys='bus1', values=bus, allow_none=True, default=None)\n",
    "line2 = sa.Line.find_idx(keys='bus2', values=bus, allow_none=True, default=None)\n",
    "line = []\n",
    "for l1, l2 in zip(line1, line2):\n",
    "    if l1 is not None:\n",
    "        line.append(l1)\n",
    "    elif l2 is not None:\n",
    "        line.append(l2)\n",
    "    else:\n",
    "        line.append(None)\n",
    "REPCA1['line'] = line\n",
    "REPCA1['VCFlag'] = [0] * n_w2t  # with droop\n",
    "REPCA1['RefFlag'] = [0] * n_w2t  # Q control\n",
    "REPCA1['Fflag'] = [0] * n_w2t  # Frequency control, disabled\n",
    "REPCA1['PLflag'] = [0] * n_w2t  # Pline control, disabled\n",
    "\n",
    "# unmapped parameters are skipped and default values are used\n",
    "# add to the system\n",
    "for row in REPCA1.itertuples(index=False):\n",
    "    sa.add(model='REPCA1', param_dict={**row._asdict()})"
   ]
  },
  {
   "cell_type": "markdown",
   "metadata": {},
   "source": [
    "#### WTDS\n",
    "\n",
    "RenGovernor"
   ]
  },
  {
   "cell_type": "code",
   "execution_count": 13,
   "metadata": {},
   "outputs": [],
   "source": [
    "WTDS = pd.DataFrame()\n",
    "\n",
    "# mapped parameters\n",
    "WTDS['u'] = [1] * n_w2t\n",
    "WTDS['idx'] = [f'WTDS_{i}' for i in range(1, n_w2t+1)]\n",
    "WTDS['ree'] = REECA1['idx']\n",
    "WTDS['H'] = [3] * n_w2t\n",
    "WTDS['D'] = [1] * n_w2t\n",
    "WTDS['w0'] = [1] * n_w2t\n",
    "\n",
    "for row in WTDS.itertuples(index=False):\n",
    "    sa.add(model='WTDS', param_dict={**row._asdict()})"
   ]
  },
  {
   "cell_type": "code",
   "execution_count": 14,
   "metadata": {},
   "outputs": [
    {
     "name": "stderr",
     "output_type": "stream",
     "text": [
      "xlsx file written to \"ACTIVSg200/3.IL200_dyn_50wt.xlsx\"\n"
     ]
    },
    {
     "data": {
      "text/plain": [
       "True"
      ]
     },
     "execution_count": 14,
     "metadata": {},
     "output_type": "execute_result"
    }
   ],
   "source": [
    "# Export to XLSX for Further Use\n",
    "andes.io.xlsx.write(sa, 'ACTIVSg200/3.IL200_dyn_50wt.xlsx',\n",
    "                    overwrite=True)"
   ]
  },
  {
   "cell_type": "markdown",
   "metadata": {},
   "source": [
    "## Test TDS"
   ]
  },
  {
   "cell_type": "code",
   "execution_count": 15,
   "metadata": {},
   "outputs": [
    {
     "name": "stderr",
     "output_type": "stream",
     "text": [
      "REPCA1 <REPCA1_1> added BusFreq <BusFreq_1> linked to bus <65.0>\n",
      "REPCA1 <REPCA1_2> added BusFreq <BusFreq_2> linked to bus <104.0>\n",
      "REPCA1 <REPCA1_3> added BusFreq <BusFreq_3> linked to bus <105.0>\n",
      "REPCA1 <REPCA1_4> added BusFreq <BusFreq_4> linked to bus <114.0>\n",
      "REPCA1 <REPCA1_5> added BusFreq <BusFreq_5> linked to bus <115.0>\n",
      "REPCA1 <REPCA1_6> added BusFreq <BusFreq_6> linked to bus <125.0>\n",
      "REPCA1 <REPCA1_7> added BusFreq <BusFreq_7> linked to bus <126.0>\n",
      "REPCA1 <REPCA1_8> added BusFreq <BusFreq_8> linked to bus <127.0>\n",
      "REPCA1 <REPCA1_9> added BusFreq <BusFreq_9> linked to bus <135.0>\n",
      "REPCA1 <REPCA1_10> added BusFreq <BusFreq_10> linked to bus <136.0>\n",
      "REPCA1 <REPCA1_11> added BusFreq <BusFreq_11> linked to bus <147.0>\n",
      "System internal structure set up in 0.0485 seconds.\n"
     ]
    },
    {
     "data": {
      "text/plain": [
       "True"
      ]
     },
     "execution_count": 15,
     "metadata": {},
     "output_type": "execute_result"
    }
   ],
   "source": [
    "sa.setup()"
   ]
  },
  {
   "cell_type": "code",
   "execution_count": 16,
   "metadata": {},
   "outputs": [
    {
     "name": "stderr",
     "output_type": "stream",
     "text": [
      "-> System connectivity check results:\n",
      "  No islanded bus detected.\n",
      "  System is interconnected.\n",
      "  Each island has a slack bus correctly defined and enabled.\n",
      "\n",
      "-> Power flow calculation\n",
      "           Numba: Off\n",
      "   Sparse solver: KLU\n",
      " Solution method: NR method\n",
      "Power flow initialized in 0.0034 seconds.\n",
      "0: |F(x)| = 0.008972060491\n",
      "1: |F(x)| = 2.370463282e-06\n",
      "2: |F(x)| = 2.678968158e-13\n",
      "Converged in 3 iterations in 0.0028 seconds.\n"
     ]
    },
    {
     "data": {
      "text/plain": [
       "True"
      ]
     },
     "execution_count": 16,
     "metadata": {},
     "output_type": "execute_result"
    }
   ],
   "source": [
    "# Constant load\n",
    "sa.PQ.config.p2p = 1\n",
    "sa.PQ.config.q2q = 1\n",
    "sa.PQ.config.p2z = 0\n",
    "sa.PQ.config.q2z = 0\n",
    "\n",
    "sa.PFlow.run()"
   ]
  },
  {
   "cell_type": "code",
   "execution_count": 17,
   "metadata": {},
   "outputs": [
    {
     "name": "stderr",
     "output_type": "stream",
     "text": [
      "GENROU (vf range) out of typical lower limit.\n",
      "\n",
      "   idx     | values | limit\n",
      "-----------+--------+------\n",
      " GENROU_6  | 0      | 1    \n",
      " GENROU_7  | 0.957  | 1    \n",
      " GENROU_16 | 0      | 1    \n",
      " GENROU_17 | 0      | 1    \n",
      " GENROU_20 | 0      | 1    \n",
      " GENROU_22 | 0      | 1    \n",
      " GENROU_23 | 0      | 1    \n",
      " GENROU_24 | 0      | 1    \n",
      " GENROU_25 | 0      | 1    \n",
      " GENROU_26 | 0      | 1    \n",
      " GENROU_27 | 0      | 1    \n",
      " GENROU_28 | 0      | 1    \n",
      " GENROU_29 | 0      | 1    \n",
      " GENROU_30 | 0      | 1    \n",
      " GENROU_31 | 0      | 1    \n",
      " GENROU_37 | 0      | 1    \n",
      " GENROU_38 | 0      | 1    \n",
      " GENROU_39 | 0      | 1    \n",
      " GENROU_40 | 0      | 1    \n",
      " GENROU_42 | 0      | 1    \n",
      " GENROU_43 | 0      | 1    \n",
      " GENROU_48 | 0      | 1    \n",
      " GENROU_49 | 0      | 1    \n",
      "\n",
      "\n",
      "Initialization for dynamics completed in 0.0579 seconds.\n",
      "Initialization was successful.\n"
     ]
    }
   ],
   "source": [
    "_ = sa.TDS.init()"
   ]
  },
  {
   "cell_type": "code",
   "execution_count": 18,
   "metadata": {},
   "outputs": [
    {
     "name": "stderr",
     "output_type": "stream",
     "text": [
      "\n",
      "-> Eigenvalue Analysis:\n",
      "  Positive       0\n",
      "  Zeros        122\n",
      "  Negative     892\n",
      "Eigenvalue analysis finished in 0.4735 seconds.\n"
     ]
    },
    {
     "data": {
      "image/png": "[encoded data removed]",
      "text/plain": [
       "<Figure size 640x480 with 1 Axes>"
      ]
     },
     "metadata": {},
     "output_type": "display_data"
    }
   ],
   "source": [
    "sa.EIG.run()\n",
    "_ = sa.EIG.plot()"
   ]
  }
 ],
 "metadata": {
  "kernelspec": {
   "display_name": "amsre",
   "language": "python",
   "name": "python3"
  },
  "language_info": {
   "codemirror_mode": {
    "name": "ipython",
    "version": 3
   },
   "file_extension": ".py",
   "mimetype": "text/x-python",
   "name": "python",
   "nbconvert_exporter": "python",
   "pygments_lexer": "ipython3",
   "version": "3.12.0"
  }
 },
 "nbformat": 4,
 "nbformat_minor": 2
}
